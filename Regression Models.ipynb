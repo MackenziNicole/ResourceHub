{
 "cells": [
  {
   "cell_type": "code",
   "execution_count": 1,
   "id": "ddbb8284",
   "metadata": {},
   "outputs": [
    {
     "name": "stdout",
     "output_type": "stream",
     "text": [
      "Best model: Ridge Regression\n"
     ]
    }
   ],
   "source": [
    "import numpy as np\n",
    "from sklearn.model_selection import train_test_split\n",
    "from sklearn.linear_model import LinearRegression, Lasso, Ridge\n",
    "from sklearn.preprocessing import PolynomialFeatures\n",
    "from sklearn.metrics import mean_squared_error\n",
    "from sklearn.ensemble import RandomForestRegressor\n",
    "from mord import LogisticAT\n",
    "from sklearn.ensemble import RandomForestRegressor\n",
    "from sklearn.preprocessing import PolynomialFeatures\n",
    "from sklearn.pipeline import make_pipeline\n",
    "\n",
    "# Generate a random dataset\n",
    "np.random.seed(0)\n",
    "n_samples = 100\n",
    "n_features = 5\n",
    "X = np.random.rand(n_samples, n_features)\n",
    "y = 2*X[:, 0] + 3*X[:, 1] - 1.5*X[:, 2] + np.random.randn(n_samples) * 0.5\n",
    "\n",
    "# Split the dataset into training and testing sets\n",
    "X_train, X_test, y_train, y_test = train_test_split(X, y, test_size=0.2, random_state=42)\n",
    "\n",
    "# Linear Regression\n",
    "linear_reg = LinearRegression()\n",
    "linear_reg.fit(X_train, y_train)\n",
    "linear_pred = linear_reg.predict(X_test)\n",
    "linear_mse = mean_squared_error(y_test, linear_pred)\n",
    "\n",
    "# Lasso Regression\n",
    "lasso_reg = Lasso()\n",
    "lasso_reg.fit(X_train, y_train)\n",
    "lasso_pred = lasso_reg.predict(X_test)\n",
    "lasso_mse = mean_squared_error(y_test, lasso_pred)\n",
    "\n",
    "# Ridge Regression\n",
    "ridge_reg = Ridge()\n",
    "ridge_reg.fit(X_train, y_train)\n",
    "ridge_pred = ridge_reg.predict(X_test)\n",
    "ridge_mse = mean_squared_error(y_test, ridge_pred)\n",
    "\n",
    "# Polynomial Regression\n",
    "poly_reg = make_pipeline(PolynomialFeatures(2), LinearRegression())\n",
    "poly_reg.fit(X_train, y_train)\n",
    "poly_pred = poly_reg.predict(X_test)\n",
    "poly_mse = mean_squared_error(y_test, poly_pred)\n",
    "\n",
    "# Random Forest Regression\n",
    "random_forest_reg = RandomForestRegressor()\n",
    "random_forest_reg.fit(X_train, y_train)\n",
    "rf_pred = random_forest_reg.predict(X_test)\n",
    "rf_mse = mean_squared_error(y_test, rf_pred)\n",
    "\n",
    "# Compare the performance of different models\n",
    "mse_scores = {\n",
    "    \"Linear Regression\": linear_mse,\n",
    "    \"Lasso Regression\": lasso_mse,\n",
    "    \"Ridge Regression\": ridge_mse,\n",
    "    \"Polynomial Regression\": poly_mse,\n",
    "    \"Random Forest Regression\": rf_mse\n",
    "}\n",
    "\n",
    "best_model = min(mse_scores, key=mse_scores.get)\n",
    "print(\"Best model:\", best_model)"
   ]
  },
  {
   "cell_type": "code",
   "execution_count": 2,
   "id": "e071e068",
   "metadata": {},
   "outputs": [
    {
     "name": "stdout",
     "output_type": "stream",
     "text": [
      "{'Linear Regression': 0.2030407762929231, 'Lasso Regression': 1.5815531179683053, 'Ridge Regression': 0.19995061387395313, 'Polynomial Regression': 0.3289448648397318, 'Random Forest Regression': 0.2141079220217405}\n"
     ]
    }
   ],
   "source": [
    "print(mse_scores)"
   ]
  },
  {
   "cell_type": "code",
   "execution_count": null,
   "id": "657b970e",
   "metadata": {},
   "outputs": [],
   "source": []
  }
 ],
 "metadata": {
  "kernelspec": {
   "display_name": "Python 3 (ipykernel)",
   "language": "python",
   "name": "python3"
  },
  "language_info": {
   "codemirror_mode": {
    "name": "ipython",
    "version": 3
   },
   "file_extension": ".py",
   "mimetype": "text/x-python",
   "name": "python",
   "nbconvert_exporter": "python",
   "pygments_lexer": "ipython3",
   "version": "3.10.9"
  }
 },
 "nbformat": 4,
 "nbformat_minor": 5
}
