{
 "cells": [
  {
   "cell_type": "code",
   "execution_count": 1,
   "id": "f58b067e",
   "metadata": {},
   "outputs": [
    {
     "name": "stderr",
     "output_type": "stream",
     "text": [
      "[d3blocks] >INFO> Cleaning edge_properties and config parameters..\n",
      "[d3blocks] >INFO> Cleaning edge_properties and config parameters..\n",
      "[d3blocks] >INFO> Initializing [Movingbubbles]\n",
      "[d3blocks] >INFO> filepath is set to [C:\\Users\\maustin\\AppData\\Local\\Temp\\d3blocks\\movingbubbles.html]\n",
      "[d3blocks] >INFO> Convert to Frame.\n",
      "[d3blocks] >INFO> Node properties are set.\n",
      "[d3blocks] >INFO> Standardizing input dataframe using method: [samplewise].\n",
      "[d3blocks] >INFO> Standardize method: [samplewise]\n"
     ]
    },
    {
     "name": "stdout",
     "output_type": "stream",
     "text": [
      "                datetime sample_id     state\n",
      "0    2000-01-01 00:14:48       479     Sport\n",
      "1    2000-01-01 00:30:46       243      Sick\n",
      "2    2000-01-01 00:35:54       458      Sick\n",
      "3    2000-01-01 01:07:12       384     Sport\n",
      "4    2000-01-01 01:16:28       492      Sick\n",
      "...                  ...       ...       ...\n",
      "9994 2000-12-01 23:23:12        27    Travel\n",
      "9995 2000-12-01 23:27:57       197    Travel\n",
      "9996 2000-12-01 23:36:42       451    Travel\n",
      "9997 2000-12-01 23:47:20       206     Bored\n",
      "9998 2000-12-01 23:49:54       430  Sleeping\n",
      "\n",
      "[9999 rows x 3 columns]\n"
     ]
    },
    {
     "name": "stderr",
     "output_type": "stream",
     "text": [
      "100%|██████████| 501/501 [00:10<00:00, 46.57it/s]\n",
      "[d3blocks] >INFO> Set all nodes to size: 5\n",
      "[d3blocks] >INFO> Edge properties are set.\n"
     ]
    },
    {
     "name": "stdout",
     "output_type": "stream",
     "text": [
      "[colourmap]> Warning: Colormap [Set1] can not create [501] unique colors! Available unique colors: [9].\n"
     ]
    },
    {
     "name": "stderr",
     "output_type": "stream",
     "text": [
      "[d3blocks] >INFO> File already exists and will be overwritten: [C:\\Users\\maustin\\AppData\\Local\\Temp\\d3blocks\\movingbubbles.html]\n",
      "[d3blocks] >INFO> Open browser: C:\\Users\\maustin\\AppData\\Local\\Temp\\d3blocks\\movingbubbles.html\n"
     ]
    }
   ],
   "source": [
    "# Import library\n",
    "from d3blocks import D3Blocks\n",
    "\n",
    "# Initialize\n",
    "d3 = D3Blocks()\n",
    "\n",
    "# Import example\n",
    "df = d3.import_example(data='random_time', n=10000, c=500, date_start=\"01-01-2000 00:10:05\", date_stop=\"01-02-2000 23:59:59\")\n",
    "\n",
    "print(df)\n",
    "\n",
    "# Make the moving bubbles\n",
    "d3.movingbubbles(df,\n",
    "                 datetime='datetime',\n",
    "                 sample_id='sample_id',\n",
    "                 state='state',\n",
    "                 center=None,\n",
    "                 reset_properties=True,\n",
    "                 speed={\"slow\": 100, \"medium\": 20, \"fast\": 5},\n",
    "                 figsize=(780, 800),\n",
    "                 note=None,\n",
    "                 title='D3Blocks MovingBubbles',\n",
    "                 filepath='movingbubbles.html',\n",
    "                 fontsize=14,\n",
    "                 showfig=True,\n",
    "                 overwrite=True)"
   ]
  },
  {
   "cell_type": "code",
   "execution_count": null,
   "id": "e261502c",
   "metadata": {},
   "outputs": [],
   "source": []
  }
 ],
 "metadata": {
  "kernelspec": {
   "display_name": "Python 3 (ipykernel)",
   "language": "python",
   "name": "python3"
  },
  "language_info": {
   "codemirror_mode": {
    "name": "ipython",
    "version": 3
   },
   "file_extension": ".py",
   "mimetype": "text/x-python",
   "name": "python",
   "nbconvert_exporter": "python",
   "pygments_lexer": "ipython3",
   "version": "3.10.9"
  }
 },
 "nbformat": 4,
 "nbformat_minor": 5
}
